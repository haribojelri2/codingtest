{
 "cells": [
  {
   "cell_type": "code",
   "execution_count": 1,
   "metadata": {},
   "outputs": [],
   "source": [
    "'''\n",
    "문제 설명\n",
    "숫자와 \"Z\"가 공백으로 구분되어 담긴 문자열이 주어집니다.\n",
    "문자열에 있는 숫자를 차례대로 더하려고 합니다. \n",
    "이 때 \"Z\"가 나오면 바로 전에 더했던 숫자를 뺀다는 뜻입니다. \n",
    "숫자와 \"Z\"로 이루어진 문자열 s가 주어질 때, \n",
    "머쓱이가 구한 값을 return 하도록 solution 함수를 완성해보세요.\n",
    "'''"
   ]
  },
  {
   "cell_type": "code",
   "execution_count": 21,
   "metadata": {},
   "outputs": [
    {
     "name": "stdout",
     "output_type": "stream",
     "text": [
      "-6\n",
      "15\n",
      "plus = 10\n"
     ]
    }
   ],
   "source": [
    "s = \"-1 -2 -3 Z 4 5 6 Z 10\"\n",
    "result = s.split(' ')\n",
    "plus = 0\n",
    "point = 0\n",
    "for index,i in enumerate(result):\n",
    "    if i =='Z':\n",
    "        plus -= result[index-1]\n",
    "    elif i !='Z':\n",
    "        plus += int(i)\n",
    "print(f'plus = {plus}')"
   ]
  },
  {
   "cell_type": "code",
   "execution_count": 12,
   "metadata": {},
   "outputs": [
    {
     "data": {
      "text/plain": [
       "['1', '2']"
      ]
     },
     "execution_count": 12,
     "metadata": {},
     "output_type": "execute_result"
    }
   ],
   "source": []
  }
 ],
 "metadata": {
  "kernelspec": {
   "display_name": "base",
   "language": "python",
   "name": "python3"
  },
  "language_info": {
   "codemirror_mode": {
    "name": "ipython",
    "version": 3
   },
   "file_extension": ".py",
   "mimetype": "text/x-python",
   "name": "python",
   "nbconvert_exporter": "python",
   "pygments_lexer": "ipython3",
   "version": "3.11.7"
  }
 },
 "nbformat": 4,
 "nbformat_minor": 2
}
