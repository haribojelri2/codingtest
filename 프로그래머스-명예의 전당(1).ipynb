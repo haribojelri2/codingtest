{
 "cells": [
  {
   "cell_type": "code",
   "execution_count": 83,
   "metadata": {},
   "outputs": [
    {
     "name": "stdout",
     "output_type": "stream",
     "text": [
      "[0]\n",
      "[0, 300]\n",
      "[0, 300, 40]\n",
      "[0, 300, 40, 300]\n",
      "[300, 40, 300, 20]\n",
      "[300, 40, 300, 70]\n",
      "[300, 300, 70, 150]\n",
      "[300, 300, 70, 150]\n",
      "[300, 300, 150, 500]\n",
      "[300, 300, 500, 1000]\n",
      "[0, 0, 0, 0, 20, 40, 70, 70, 150, 300]\n"
     ]
    }
   ],
   "source": [
    "from collections import deque\n",
    "k=4\n",
    "score = [0, 300, 40, 300, 20, 70, 150, 50, 500, 1000]\n",
    "q = []\n",
    "result=[]\n",
    "for i in score:\n",
    "    q.append(i)\n",
    "    if len(q) > k:\n",
    "        q.remove(min(q))\n",
    "    print(q)\n",
    "    result.append(min(q))\n",
    "print(result)"
   ]
  },
  {
   "cell_type": "code",
   "execution_count": 81,
   "metadata": {},
   "outputs": [
    {
     "data": {
      "text/plain": [
       "deque([70, 300, 300, 1000])"
      ]
     },
     "execution_count": 81,
     "metadata": {},
     "output_type": "execute_result"
    }
   ],
   "source": [
    "q\n"
   ]
  },
  {
   "cell_type": "code",
   "execution_count": null,
   "metadata": {},
   "outputs": [],
   "source": []
  }
 ],
 "metadata": {
  "kernelspec": {
   "display_name": "base",
   "language": "python",
   "name": "python3"
  },
  "language_info": {
   "codemirror_mode": {
    "name": "ipython",
    "version": 3
   },
   "file_extension": ".py",
   "mimetype": "text/x-python",
   "name": "python",
   "nbconvert_exporter": "python",
   "pygments_lexer": "ipython3",
   "version": "3.11.7"
  }
 },
 "nbformat": 4,
 "nbformat_minor": 2
}
