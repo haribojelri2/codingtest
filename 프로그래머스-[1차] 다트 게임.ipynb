{
 "cells": [
  {
   "cell_type": "code",
   "execution_count": 104,
   "metadata": {},
   "outputs": [
    {
     "name": "stdout",
     "output_type": "stream",
     "text": [
      "['1']\n",
      "[1]\n",
      "[1, '2']\n",
      "[1, 2]\n",
      "[1, 2, '3']\n",
      "[1, 2, 27]\n",
      "[1, 4, 54]\n"
     ]
    },
    {
     "data": {
      "text/plain": [
       "59"
      ]
     },
     "execution_count": 104,
     "metadata": {},
     "output_type": "execute_result"
    }
   ],
   "source": [
    "r = '1D2S3T*'\n",
    "d=[]\n",
    "for idx,val in enumerate(r):\n",
    "    if val.isdigit():\n",
    "        d.append(val)\n",
    "        if (r[idx-1]+r[idx]).isdigit():\n",
    "            d.pop()\n",
    "            d.pop()\n",
    "            d.append(r[idx-1]+r[idx])\n",
    "    \n",
    "\n",
    "    if val in 'S':\n",
    "        d[-1] = int(d[-1])**1\n",
    "    elif val in 'D':\n",
    "        d[-1] = int(d[-1])**2\n",
    "    elif val in 'T':\n",
    "        d[-1] = int(d[-1])**3\n",
    "    elif val in '#':\n",
    "        d[-1] = int(d[-1])*-1\n",
    "    elif val in '*':\n",
    "        if len(d)==3:\n",
    "            for i in range(1,len(d)):\n",
    "                d[i] = d[i]*2 \n",
    "        else:\n",
    "            for i in range(len(d)):\n",
    "                d[i] = d[i]*2    \n",
    "    print(d)    \n",
    "sum(d)"
   ]
  },
  {
   "cell_type": "code",
   "execution_count": 67,
   "metadata": {},
   "outputs": [
    {
     "data": {
      "text/plain": [
       "'2S'"
      ]
     },
     "execution_count": 67,
     "metadata": {},
     "output_type": "execute_result"
    }
   ],
   "source": [
    "r[2:4]"
   ]
  }
 ],
 "metadata": {
  "kernelspec": {
   "display_name": "base",
   "language": "python",
   "name": "python3"
  },
  "language_info": {
   "codemirror_mode": {
    "name": "ipython",
    "version": 3
   },
   "file_extension": ".py",
   "mimetype": "text/x-python",
   "name": "python",
   "nbconvert_exporter": "python",
   "pygments_lexer": "ipython3",
   "version": "3.11.7"
  }
 },
 "nbformat": 4,
 "nbformat_minor": 2
}
