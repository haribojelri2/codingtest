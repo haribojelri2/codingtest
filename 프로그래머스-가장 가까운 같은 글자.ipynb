{
 "cells": [
  {
   "cell_type": "code",
   "execution_count": 15,
   "metadata": {},
   "outputs": [
    {
     "data": {
      "text/plain": [
       "[-1, -1, -1, 2, 2, 2]"
      ]
     },
     "execution_count": 15,
     "metadata": {},
     "output_type": "execute_result"
    }
   ],
   "source": [
    "s='banana'\n",
    "answer=[]\n",
    "a={}\n",
    "for idx,val in enumerate(s):\n",
    "    if val not in a:\n",
    "        answer.append(-1) \n",
    "        a[val]=idx\n",
    "    else:\n",
    "        diff = idx-a[val]\n",
    "        a[val]=idx\n",
    "        answer.append(diff)\n"
   ]
  }
 ],
 "metadata": {
  "kernelspec": {
   "display_name": "base",
   "language": "python",
   "name": "python3"
  },
  "language_info": {
   "codemirror_mode": {
    "name": "ipython",
    "version": 3
   },
   "file_extension": ".py",
   "mimetype": "text/x-python",
   "name": "python",
   "nbconvert_exporter": "python",
   "pygments_lexer": "ipython3",
   "version": "3.11.7"
  }
 },
 "nbformat": 4,
 "nbformat_minor": 2
}
