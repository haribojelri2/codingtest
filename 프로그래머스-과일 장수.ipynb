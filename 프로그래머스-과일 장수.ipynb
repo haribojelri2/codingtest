{
 "cells": [
  {
   "cell_type": "code",
   "execution_count": 76,
   "metadata": {},
   "outputs": [
    {
     "data": {
      "text/plain": [
       "33"
      ]
     },
     "execution_count": 76,
     "metadata": {},
     "output_type": "execute_result"
    }
   ],
   "source": [
    "from collections import deque\n",
    "s= sorted([4, 1, 2, 2, 4, 4, 4, 4, 1, 2, 4, 2],reverse=True)\n",
    "k=4\n",
    "m=3\n",
    "a=0\n",
    "sliced_lists = [s[i:i+m] for i in range(0, len(s), m)]\n",
    "for i in sliced_lists:\n",
    "    if len(i)==m:\n",
    "        a+=min(i)*m\n",
    "a"
   ]
  },
  {
   "cell_type": "code",
   "execution_count": null,
   "metadata": {},
   "outputs": [],
   "source": []
  }
 ],
 "metadata": {
  "kernelspec": {
   "display_name": "base",
   "language": "python",
   "name": "python3"
  },
  "language_info": {
   "codemirror_mode": {
    "name": "ipython",
    "version": 3
   },
   "file_extension": ".py",
   "mimetype": "text/x-python",
   "name": "python",
   "nbconvert_exporter": "python",
   "pygments_lexer": "ipython3",
   "version": "3.11.7"
  }
 },
 "nbformat": 4,
 "nbformat_minor": 2
}
