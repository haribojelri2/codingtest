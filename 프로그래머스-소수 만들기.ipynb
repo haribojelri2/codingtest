{
 "cells": [
  {
   "cell_type": "code",
   "execution_count": null,
   "metadata": {},
   "outputs": [],
   "source": [
    "import math\n",
    "from itertools import combinations\n",
    "\n",
    "def is_prime(n):\n",
    "    for i in range(2, int(math.sqrt(n)) + 1):\n",
    "        if n % i == 0:\n",
    "            return False\n",
    "    return True\n",
    "a= [1,2,7,6,4]\n",
    "answer = 0\n",
    "combs = list(combinations(a,3))\n",
    "comb_sums = [sum(comb) for comb in combs]\n",
    "for i in comb_sums:\n",
    "    if is_prime(i):\n",
    "        answer+=1\n",
    "answer"
   ]
  }
 ],
 "metadata": {
  "language_info": {
   "name": "python"
  }
 },
 "nbformat": 4,
 "nbformat_minor": 2
}
