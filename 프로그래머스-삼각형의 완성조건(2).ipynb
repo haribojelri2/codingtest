{
 "cells": [
  {
   "cell_type": "code",
   "execution_count": null,
   "metadata": {},
   "outputs": [],
   "source": [
    "'''\n",
    "문제 설명\n",
    "선분 세 개로 삼각형을 만들기 위해서는 다음과 같은 조건을 만족해야 합니다.\n",
    "가장 긴 변의 길이는 다른 두 변의 길이의 합보다 작아야 합니다.\n",
    "삼각형의 두 변의 길이가 담긴 배열 sides이 매개변수로 주어집니다. \n",
    "나머지 한 변이 될 수 있는 정수의 개수를 return하도록 solution 함수를 완성해주세요.\n",
    "'''"
   ]
  },
  {
   "cell_type": "code",
   "execution_count": 17,
   "metadata": {},
   "outputs": [
    {
     "data": {
      "text/plain": [
       "7"
      ]
     },
     "execution_count": 17,
     "metadata": {},
     "output_type": "execute_result"
    }
   ],
   "source": [
    "target = [11,7]\n",
    "len(range(max(target)+1,sum(target))) + len(range(max(target)-min(target), max(target) ))"
   ]
  }
 ],
 "metadata": {
  "kernelspec": {
   "display_name": "base",
   "language": "python",
   "name": "python3"
  },
  "language_info": {
   "codemirror_mode": {
    "name": "ipython",
    "version": 3
   },
   "file_extension": ".py",
   "mimetype": "text/x-python",
   "name": "python",
   "nbconvert_exporter": "python",
   "pygments_lexer": "ipython3",
   "version": "3.11.7"
  }
 },
 "nbformat": 4,
 "nbformat_minor": 2
}
